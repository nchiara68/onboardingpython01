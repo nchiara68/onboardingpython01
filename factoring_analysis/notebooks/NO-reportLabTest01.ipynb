{
 "cells": [
  {
   "cell_type": "code",
   "execution_count": 3,
   "id": "e583b413",
   "metadata": {},
   "outputs": [],
   "source": [
    "# import the canvas object\n",
    "from reportlab.pdfgen import canvas\n",
    "\n",
    "# create a Canvas object with a filename\n",
    "c = canvas.Canvas(\"rl-hello_again.pdf\", pagesize=(595.27, 841.89))  # A4 pagesize\n",
    "# draw a string at x=100, y=800 points\n",
    "# point ~ standard desktop publishing (72 DPI)\n",
    "# coordinate system:\n",
    "#   y\n",
    "#   |\n",
    "#   |   page\n",
    "#   |\n",
    "#   |\n",
    "#   0-------x\n",
    "c.drawString(50, 780, \"Hello Again\")\n",
    "# finish page\n",
    "c.showPage()\n",
    "# construct and save file to .pdf\n",
    "c.save()"
   ]
  }
 ],
 "metadata": {
  "kernelspec": {
   "display_name": ".venv",
   "language": "python",
   "name": "python3"
  },
  "language_info": {
   "codemirror_mode": {
    "name": "ipython",
    "version": 3
   },
   "file_extension": ".py",
   "mimetype": "text/x-python",
   "name": "python",
   "nbconvert_exporter": "python",
   "pygments_lexer": "ipython3",
   "version": "3.8.5"
  }
 },
 "nbformat": 4,
 "nbformat_minor": 5
}
