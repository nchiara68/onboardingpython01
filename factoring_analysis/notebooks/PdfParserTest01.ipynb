{
 "cells": [
  {
   "cell_type": "code",
   "execution_count": 8,
   "id": "4bc7d5ca",
   "metadata": {},
   "outputs": [
    {
     "name": "stdout",
     "output_type": "stream",
     "text": [
      "💡 DEBUG: To install packages, uncomment the next line and run:\n",
      "🔧 DEBUG: Starting package installation...\n",
      "🔧 DEBUG: Installing pypdf...\n",
      "Requirement already satisfied: pypdf in /Users/nicolachiara/VSCODE/PROJECTS/Onboarding/python/onboardingpython01/.venv/lib/python3.8/site-packages (5.7.0)\n",
      "Requirement already satisfied: typing_extensions>=4.0 in /Users/nicolachiara/VSCODE/PROJECTS/Onboarding/python/onboardingpython01/.venv/lib/python3.8/site-packages (from pypdf) (4.13.2)\n"
     ]
    },
    {
     "name": "stderr",
     "output_type": "stream",
     "text": [
      "\n",
      "\u001b[1m[\u001b[0m\u001b[34;49mnotice\u001b[0m\u001b[1;39;49m]\u001b[0m\u001b[39;49m A new release of pip is available: \u001b[0m\u001b[31;49m25.0.1\u001b[0m\u001b[39;49m -> \u001b[0m\u001b[32;49m25.1.1\u001b[0m\n",
      "\u001b[1m[\u001b[0m\u001b[34;49mnotice\u001b[0m\u001b[1;39;49m]\u001b[0m\u001b[39;49m To update, run: \u001b[0m\u001b[32;49mpip install --upgrade pip\u001b[0m\n"
     ]
    },
    {
     "name": "stdout",
     "output_type": "stream",
     "text": [
      "✅ DEBUG: Successfully installed pypdf\n",
      "🔧 DEBUG: Installing pdfplumber...\n",
      "Collecting pdfplumber\n",
      "  Downloading pdfplumber-0.11.7-py3-none-any.whl.metadata (42 kB)\n",
      "INFO: pip is looking at multiple versions of pdfplumber to determine which version is compatible with other requirements. This could take a while.\n",
      "  Downloading pdfplumber-0.11.6-py3-none-any.whl.metadata (42 kB)\n",
      "  Downloading pdfplumber-0.11.5-py3-none-any.whl.metadata (42 kB)\n",
      "Collecting pdfminer.six==20231228 (from pdfplumber)\n",
      "  Downloading pdfminer.six-20231228-py3-none-any.whl.metadata (4.2 kB)\n",
      "Requirement already satisfied: Pillow>=9.1 in /Users/nicolachiara/VSCODE/PROJECTS/Onboarding/python/onboardingpython01/.venv/lib/python3.8/site-packages (from pdfplumber) (10.4.0)\n",
      "Collecting pypdfium2>=4.18.0 (from pdfplumber)\n",
      "  Downloading pypdfium2-4.30.1-py3-none-macosx_10_13_x86_64.whl.metadata (48 kB)\n",
      "Requirement already satisfied: charset-normalizer>=2.0.0 in /Users/nicolachiara/VSCODE/PROJECTS/Onboarding/python/onboardingpython01/.venv/lib/python3.8/site-packages (from pdfminer.six==20231228->pdfplumber) (3.4.2)\n",
      "Collecting cryptography>=36.0.0 (from pdfminer.six==20231228->pdfplumber)\n",
      "  Downloading cryptography-45.0.5-cp37-abi3-macosx_10_9_universal2.whl.metadata (5.7 kB)\n",
      "Requirement already satisfied: cffi>=1.14 in /Users/nicolachiara/VSCODE/PROJECTS/Onboarding/python/onboardingpython01/.venv/lib/python3.8/site-packages (from cryptography>=36.0.0->pdfminer.six==20231228->pdfplumber) (1.17.1)\n",
      "Requirement already satisfied: pycparser in /Users/nicolachiara/VSCODE/PROJECTS/Onboarding/python/onboardingpython01/.venv/lib/python3.8/site-packages (from cffi>=1.14->cryptography>=36.0.0->pdfminer.six==20231228->pdfplumber) (2.22)\n",
      "Downloading pdfplumber-0.11.5-py3-none-any.whl (59 kB)\n",
      "Downloading pdfminer.six-20231228-py3-none-any.whl (5.6 MB)\n",
      "\u001b[2K   \u001b[90m━━━━━━━━━━━━━━━━━━━━━━━━━━━━━━━━━━━━━━━━\u001b[0m \u001b[32m5.6/5.6 MB\u001b[0m \u001b[31m25.5 MB/s\u001b[0m eta \u001b[36m0:00:00\u001b[0m00:01\u001b[0m\n",
      "\u001b[?25hDownloading pypdfium2-4.30.1-py3-none-macosx_10_13_x86_64.whl (2.9 MB)\n",
      "\u001b[2K   \u001b[90m━━━━━━━━━━━━━━━━━━━━━━━━━━━━━━━━━━━━━━━━\u001b[0m \u001b[32m2.9/2.9 MB\u001b[0m \u001b[31m26.6 MB/s\u001b[0m eta \u001b[36m0:00:00\u001b[0m\n",
      "\u001b[?25hDownloading cryptography-45.0.5-cp37-abi3-macosx_10_9_universal2.whl (7.0 MB)\n",
      "\u001b[2K   \u001b[90m━━━━━━━━━━━━━━━━━━━━━━━━━━━━━━━━━━━━━━━━\u001b[0m \u001b[32m7.0/7.0 MB\u001b[0m \u001b[31m27.0 MB/s\u001b[0m eta \u001b[36m0:00:00\u001b[0ma \u001b[36m0:00:01\u001b[0m\n",
      "\u001b[?25hInstalling collected packages: pypdfium2, cryptography, pdfminer.six, pdfplumber\n",
      "Successfully installed cryptography-45.0.5 pdfminer.six-20231228 pdfplumber-0.11.5 pypdfium2-4.30.1\n",
      "✅ DEBUG: Successfully installed pdfplumber\n",
      "🔧 DEBUG: Installing PyMuPDF...\n"
     ]
    },
    {
     "name": "stderr",
     "output_type": "stream",
     "text": [
      "\n",
      "\u001b[1m[\u001b[0m\u001b[34;49mnotice\u001b[0m\u001b[1;39;49m]\u001b[0m\u001b[39;49m A new release of pip is available: \u001b[0m\u001b[31;49m25.0.1\u001b[0m\u001b[39;49m -> \u001b[0m\u001b[32;49m25.1.1\u001b[0m\n",
      "\u001b[1m[\u001b[0m\u001b[34;49mnotice\u001b[0m\u001b[1;39;49m]\u001b[0m\u001b[39;49m To update, run: \u001b[0m\u001b[32;49mpip install --upgrade pip\u001b[0m\n"
     ]
    },
    {
     "name": "stdout",
     "output_type": "stream",
     "text": [
      "Collecting PyMuPDF\n",
      "  Downloading PyMuPDF-1.24.11-cp38-abi3-macosx_10_9_x86_64.whl.metadata (3.4 kB)\n",
      "Downloading PyMuPDF-1.24.11-cp38-abi3-macosx_10_9_x86_64.whl (18.9 MB)\n",
      "\u001b[2K   \u001b[90m━━━━━━━━━━━━━━━━━━━━━━━━━━━━━━━━━━━━━━━━\u001b[0m \u001b[32m18.9/18.9 MB\u001b[0m \u001b[31m11.3 MB/s\u001b[0m eta \u001b[36m0:00:00\u001b[0m00:01\u001b[0m00:01\u001b[0m\n",
      "\u001b[?25hInstalling collected packages: PyMuPDF\n",
      "Successfully installed PyMuPDF-1.24.11\n",
      "✅ DEBUG: Successfully installed PyMuPDF\n",
      "🔧 DEBUG: Installing tabula-py...\n"
     ]
    },
    {
     "name": "stderr",
     "output_type": "stream",
     "text": [
      "\n",
      "\u001b[1m[\u001b[0m\u001b[34;49mnotice\u001b[0m\u001b[1;39;49m]\u001b[0m\u001b[39;49m A new release of pip is available: \u001b[0m\u001b[31;49m25.0.1\u001b[0m\u001b[39;49m -> \u001b[0m\u001b[32;49m25.1.1\u001b[0m\n",
      "\u001b[1m[\u001b[0m\u001b[34;49mnotice\u001b[0m\u001b[1;39;49m]\u001b[0m\u001b[39;49m To update, run: \u001b[0m\u001b[32;49mpip install --upgrade pip\u001b[0m\n"
     ]
    },
    {
     "name": "stdout",
     "output_type": "stream",
     "text": [
      "Collecting tabula-py\n",
      "  Downloading tabula_py-2.9.3-py3-none-any.whl.metadata (7.6 kB)\n",
      "Requirement already satisfied: pandas>=0.25.3 in /Users/nicolachiara/VSCODE/PROJECTS/Onboarding/python/onboardingpython01/.venv/lib/python3.8/site-packages (from tabula-py) (2.0.3)\n",
      "Requirement already satisfied: numpy in /Users/nicolachiara/VSCODE/PROJECTS/Onboarding/python/onboardingpython01/.venv/lib/python3.8/site-packages (from tabula-py) (1.24.4)\n",
      "Collecting distro (from tabula-py)\n",
      "  Downloading distro-1.9.0-py3-none-any.whl.metadata (6.8 kB)\n",
      "Requirement already satisfied: python-dateutil>=2.8.2 in /Users/nicolachiara/VSCODE/PROJECTS/Onboarding/python/onboardingpython01/.venv/lib/python3.8/site-packages (from pandas>=0.25.3->tabula-py) (2.9.0.post0)\n",
      "Requirement already satisfied: pytz>=2020.1 in /Users/nicolachiara/VSCODE/PROJECTS/Onboarding/python/onboardingpython01/.venv/lib/python3.8/site-packages (from pandas>=0.25.3->tabula-py) (2025.2)\n",
      "Requirement already satisfied: tzdata>=2022.1 in /Users/nicolachiara/VSCODE/PROJECTS/Onboarding/python/onboardingpython01/.venv/lib/python3.8/site-packages (from pandas>=0.25.3->tabula-py) (2025.2)\n",
      "Requirement already satisfied: six>=1.5 in /Users/nicolachiara/VSCODE/PROJECTS/Onboarding/python/onboardingpython01/.venv/lib/python3.8/site-packages (from python-dateutil>=2.8.2->pandas>=0.25.3->tabula-py) (1.17.0)\n",
      "Downloading tabula_py-2.9.3-py3-none-any.whl (12.0 MB)\n",
      "\u001b[2K   \u001b[90m━━━━━━━━━━━━━━━━━━━━━━━━━━━━━━━━━━━━━━━━\u001b[0m \u001b[32m12.0/12.0 MB\u001b[0m \u001b[31m26.6 MB/s\u001b[0m eta \u001b[36m0:00:00\u001b[0ma \u001b[36m0:00:01\u001b[0m\n",
      "\u001b[?25hDownloading distro-1.9.0-py3-none-any.whl (20 kB)\n",
      "Installing collected packages: distro, tabula-py\n",
      "Successfully installed distro-1.9.0 tabula-py-2.9.3\n"
     ]
    },
    {
     "name": "stderr",
     "output_type": "stream",
     "text": [
      "\n",
      "\u001b[1m[\u001b[0m\u001b[34;49mnotice\u001b[0m\u001b[1;39;49m]\u001b[0m\u001b[39;49m A new release of pip is available: \u001b[0m\u001b[31;49m25.0.1\u001b[0m\u001b[39;49m -> \u001b[0m\u001b[32;49m25.1.1\u001b[0m\n",
      "\u001b[1m[\u001b[0m\u001b[34;49mnotice\u001b[0m\u001b[1;39;49m]\u001b[0m\u001b[39;49m To update, run: \u001b[0m\u001b[32;49mpip install --upgrade pip\u001b[0m\n"
     ]
    },
    {
     "name": "stdout",
     "output_type": "stream",
     "text": [
      "✅ DEBUG: Successfully installed tabula-py\n",
      "🔧 DEBUG: Installing pandas...\n",
      "Requirement already satisfied: pandas in /Users/nicolachiara/VSCODE/PROJECTS/Onboarding/python/onboardingpython01/.venv/lib/python3.8/site-packages (2.0.3)\n",
      "Requirement already satisfied: python-dateutil>=2.8.2 in /Users/nicolachiara/VSCODE/PROJECTS/Onboarding/python/onboardingpython01/.venv/lib/python3.8/site-packages (from pandas) (2.9.0.post0)\n",
      "Requirement already satisfied: pytz>=2020.1 in /Users/nicolachiara/VSCODE/PROJECTS/Onboarding/python/onboardingpython01/.venv/lib/python3.8/site-packages (from pandas) (2025.2)\n",
      "Requirement already satisfied: tzdata>=2022.1 in /Users/nicolachiara/VSCODE/PROJECTS/Onboarding/python/onboardingpython01/.venv/lib/python3.8/site-packages (from pandas) (2025.2)\n",
      "Requirement already satisfied: numpy>=1.20.3 in /Users/nicolachiara/VSCODE/PROJECTS/Onboarding/python/onboardingpython01/.venv/lib/python3.8/site-packages (from pandas) (1.24.4)\n",
      "Requirement already satisfied: six>=1.5 in /Users/nicolachiara/VSCODE/PROJECTS/Onboarding/python/onboardingpython01/.venv/lib/python3.8/site-packages (from python-dateutil>=2.8.2->pandas) (1.17.0)\n"
     ]
    },
    {
     "name": "stderr",
     "output_type": "stream",
     "text": [
      "\n",
      "\u001b[1m[\u001b[0m\u001b[34;49mnotice\u001b[0m\u001b[1;39;49m]\u001b[0m\u001b[39;49m A new release of pip is available: \u001b[0m\u001b[31;49m25.0.1\u001b[0m\u001b[39;49m -> \u001b[0m\u001b[32;49m25.1.1\u001b[0m\n",
      "\u001b[1m[\u001b[0m\u001b[34;49mnotice\u001b[0m\u001b[1;39;49m]\u001b[0m\u001b[39;49m To update, run: \u001b[0m\u001b[32;49mpip install --upgrade pip\u001b[0m\n"
     ]
    },
    {
     "name": "stdout",
     "output_type": "stream",
     "text": [
      "✅ DEBUG: Successfully installed pandas\n",
      "🔧 DEBUG: Installing openpyxl...\n",
      "Requirement already satisfied: openpyxl in /Users/nicolachiara/VSCODE/PROJECTS/Onboarding/python/onboardingpython01/.venv/lib/python3.8/site-packages (3.1.5)\n",
      "Requirement already satisfied: et-xmlfile in /Users/nicolachiara/VSCODE/PROJECTS/Onboarding/python/onboardingpython01/.venv/lib/python3.8/site-packages (from openpyxl) (2.0.0)\n",
      "✅ DEBUG: Successfully installed openpyxl\n"
     ]
    },
    {
     "name": "stderr",
     "output_type": "stream",
     "text": [
      "\n",
      "\u001b[1m[\u001b[0m\u001b[34;49mnotice\u001b[0m\u001b[1;39;49m]\u001b[0m\u001b[39;49m A new release of pip is available: \u001b[0m\u001b[31;49m25.0.1\u001b[0m\u001b[39;49m -> \u001b[0m\u001b[32;49m25.1.1\u001b[0m\n",
      "\u001b[1m[\u001b[0m\u001b[34;49mnotice\u001b[0m\u001b[1;39;49m]\u001b[0m\u001b[39;49m To update, run: \u001b[0m\u001b[32;49mpip install --upgrade pip\u001b[0m\n"
     ]
    }
   ],
   "source": [
    "# 1. Install required packages\n",
    "import subprocess\n",
    "import sys\n",
    "\n",
    "def install_packages():\n",
    "    print(\"🔧 DEBUG: Starting package installation...\")\n",
    "    packages = [\n",
    "        'pypdf',\n",
    "        'pdfplumber', \n",
    "        'PyMuPDF',\n",
    "        'tabula-py',\n",
    "        'pandas',\n",
    "        'openpyxl'  # for Excel export if needed\n",
    "    ]\n",
    "    \n",
    "    for package in packages:\n",
    "        print(f\"🔧 DEBUG: Installing {package}...\")\n",
    "        try:\n",
    "            subprocess.check_call([sys.executable, \"-m\", \"pip\", \"install\", package])\n",
    "            print(f\"✅ DEBUG: Successfully installed {package}\")\n",
    "        except subprocess.CalledProcessError as e:\n",
    "            print(f\"❌ DEBUG: Failed to install {package}: {str(e)}\")\n",
    "\n",
    "# Uncomment the line below to install packages\n",
    "print(\"💡 DEBUG: To install packages, uncomment the next line and run:\")\n",
    "install_packages()"
   ]
  },
  {
   "cell_type": "code",
   "execution_count": 9,
   "id": "99d20f9c",
   "metadata": {},
   "outputs": [
    {
     "name": "stdout",
     "output_type": "stream",
     "text": [
      "\n",
      "🔍 DEBUG: Testing imports...\n",
      "✅ DEBUG: pandas imported successfully\n",
      "✅ DEBUG: json imported successfully\n",
      "✅ DEBUG: datetime imported successfully\n"
     ]
    }
   ],
   "source": [
    "# 2. Test imports\n",
    "print(\"\\n🔍 DEBUG: Testing imports...\")\n",
    "try:\n",
    "    import pandas as pd\n",
    "    print(\"✅ DEBUG: pandas imported successfully\")\n",
    "except ImportError as e:\n",
    "    print(f\"❌ DEBUG: pandas import failed: {e}\")\n",
    "\n",
    "try:\n",
    "    import json\n",
    "    print(\"✅ DEBUG: json imported successfully\")\n",
    "except ImportError as e:\n",
    "    print(f\"❌ DEBUG: json import failed: {e}\")\n",
    "\n",
    "try:\n",
    "    from datetime import datetime\n",
    "    print(\"✅ DEBUG: datetime imported successfully\")\n",
    "except ImportError as e:\n",
    "    print(f\"❌ DEBUG: datetime import failed: {e}\")"
   ]
  },
  {
   "cell_type": "code",
   "execution_count": 15,
   "id": "7ca1e3bd",
   "metadata": {},
   "outputs": [
    {
     "name": "stdout",
     "output_type": "stream",
     "text": [
      "\n",
      "📊 DEBUG: Creating sample transaction data...\n",
      "✅ DEBUG: Created sample data with 5 credits and 3 debits\n"
     ]
    }
   ],
   "source": [
    "# 3. Quick test with sample data (if PDF not accessible)\n",
    "print(\"\\n📊 DEBUG: Creating sample transaction data...\")\n",
    "# Sample transaction data extracted from your bank statement\n",
    "sample_data = {\n",
    "    \"account_info\": {\n",
    "        \"account_number\": \"000000792330778\",\n",
    "        \"account_holder\": \"TECH CARGO, LLC\",\n",
    "        \"statement_period\": \"December 30, 2023 through January 31, 2024\",\n",
    "        \"beginning_balance\": 41515.72,\n",
    "        \"ending_balance\": 51894.13\n",
    "    },\n",
    "    \"deposits_and_additions\": [\n",
    "        {\n",
    "            \"date\": \"01/03/2024\",\n",
    "            \"description\": \"Orig CO Name:Wepay Orig ID:5551232356 Desc Date:240103 CO Entry Descr:Payments Sec:CCD\",\n",
    "            \"amount\": 1134.20,\n",
    "            \"type\": \"credit\",\n",
    "            \"reference\": \"0035044723Tc\"\n",
    "        },\n",
    "        {\n",
    "            \"date\": \"01/04/2024\", \n",
    "            \"description\": \"Fedwire Credit Via: Amerant Bank, N.A./067010509 B/O: Dimassi, C.A. Venezuela\",\n",
    "            \"amount\": 986.00,\n",
    "            \"type\": \"credit\",\n",
    "            \"reference\": \"0929211004Ff\"\n",
    "        },\n",
    "        {\n",
    "            \"date\": \"01/05/2024\",\n",
    "            \"description\": \"Orig CO Name:Supricom, LLC Orig ID:S941687665 Desc Date:240105 CO Entry\",\n",
    "            \"amount\": 6105.00,\n",
    "            \"type\": \"credit\", \n",
    "            \"reference\": \"0057380756Tc\"\n",
    "        },\n",
    "        {\n",
    "            \"date\": \"01/05/2024\",\n",
    "            \"description\": \"Orig CO Name:Eurybia Logistic Orig ID:1462767612 Desc Date: CO Entry\",\n",
    "            \"amount\": 500.00,\n",
    "            \"type\": \"credit\",\n",
    "            \"reference\": \"0053476596Tc\"\n",
    "        },\n",
    "        {\n",
    "            \"date\": \"01/09/2024\",\n",
    "            \"description\": \"Chips Credit Via: Bank of America, N.A./0959 B/O: 1/Formbar Limited\",\n",
    "            \"amount\": 10346.94,\n",
    "            \"type\": \"credit\",\n",
    "            \"reference\": \"0621110009Fc\"\n",
    "        }\n",
    "    ],\n",
    "    \"withdrawals\": [\n",
    "        {\n",
    "            \"date\": \"01/02/2024\",\n",
    "            \"description\": \"Online International Wire Transfer A/C: Foreign Cur Bus Acct\",\n",
    "            \"amount\": -12000.00,\n",
    "            \"type\": \"debit\",\n",
    "            \"reference\": \"7059600002Re\"\n",
    "        },\n",
    "        {\n",
    "            \"date\": \"01/04/2024\",\n",
    "            \"description\": \"Zelle Payment To Alfonso\",\n",
    "            \"amount\": -200.00,\n",
    "            \"type\": \"debit\",\n",
    "            \"reference\": \"19486155598\"\n",
    "        },\n",
    "        {\n",
    "            \"date\": \"01/05/2024\",\n",
    "            \"description\": \"Online International Wire Transfer A/C: Foreign Cur Bus Acct\",\n",
    "            \"amount\": -19174.50,\n",
    "            \"type\": \"debit\",\n",
    "            \"reference\": \"7344900005Re\"\n",
    "        }\n",
    "    ]\n",
    "}\n",
    "\n",
    "print(f\"✅ DEBUG: Created sample data with {len(sample_data['deposits_and_additions'])} credits and {len(sample_data['withdrawals'])} debits\")\n"
   ]
  },
  {
   "cell_type": "code",
   "execution_count": 16,
   "id": "c2683981",
   "metadata": {},
   "outputs": [
    {
     "name": "stdout",
     "output_type": "stream",
     "text": [
      "\n",
      "💾 DEBUG: Saving sample data to JSON...\n",
      "✅ DEBUG: Sample data saved to 'parsed_bank_statement.json'\n"
     ]
    }
   ],
   "source": [
    "# 4. Save to JSON file\n",
    "print(\"\\n💾 DEBUG: Saving sample data to JSON...\")\n",
    "try:\n",
    "    with open('parsed_bank_statement.json', 'w') as f:\n",
    "        json.dump(sample_data, f, indent=2)\n",
    "    print(\"✅ DEBUG: Sample data saved to 'parsed_bank_statement.json'\")\n",
    "except Exception as e:\n",
    "    print(f\"❌ DEBUG: Failed to save JSON: {str(e)}\")"
   ]
  },
  {
   "cell_type": "code",
   "execution_count": 17,
   "id": "772b2685",
   "metadata": {},
   "outputs": [
    {
     "name": "stdout",
     "output_type": "stream",
     "text": [
      "\n",
      "📊 DEBUG: Creating parser comparison table...\n",
      "✅ DEBUG: Parser comparison table created\n",
      "\n",
      "=== PDF PARSER COMPARISON ===\n",
      "    Parser                                            Pros                                                      Cons                         Best For\n",
      "     pypdf                    Fast, Simple text extraction Limited formatting preservation, May miss complex layouts     Simple text-based statements\n",
      "pdfplumber     Excellent table detection, Preserves layout                     Slower than pypdf, More complex setup Structured documents with tables\n",
      "   PyMuPDF     Fast and comprehensive, Good image handling               Larger dependency, Overkill for simple text  Complex PDFs with mixed content\n",
      " tabula-py Specialized for tables, Good for financial data             Java dependency, Only works with tabular data Table-heavy financial statements\n"
     ]
    }
   ],
   "source": [
    "# 5. Create comparison table of parsing methods\n",
    "print(\"\\n📊 DEBUG: Creating parser comparison table...\")\n",
    "parsing_methods = {\n",
    "    \"pypdf\": {\n",
    "        \"pros\": [\"Fast\", \"Simple text extraction\", \"Good for basic PDFs\"],\n",
    "        \"cons\": [\"Limited formatting preservation\", \"May miss complex layouts\"],\n",
    "        \"best_for\": \"Simple text-based statements\"\n",
    "    },\n",
    "    \"pdfplumber\": {\n",
    "        \"pros\": [\"Excellent table detection\", \"Preserves layout\", \"Good text positioning\"],\n",
    "        \"cons\": [\"Slower than pypdf\", \"More complex setup\"],\n",
    "        \"best_for\": \"Structured documents with tables\"\n",
    "    },\n",
    "    \"PyMuPDF\": {\n",
    "        \"pros\": [\"Fast and comprehensive\", \"Good image handling\", \"Detailed text info\"],\n",
    "        \"cons\": [\"Larger dependency\", \"Overkill for simple text\"],\n",
    "        \"best_for\": \"Complex PDFs with mixed content\"\n",
    "    },\n",
    "    \"tabula-py\": {\n",
    "        \"pros\": [\"Specialized for tables\", \"Good for financial data\", \"Multiple output formats\"],\n",
    "        \"cons\": [\"Java dependency\", \"Only works with tabular data\"],\n",
    "        \"best_for\": \"Table-heavy financial statements\"\n",
    "    }\n",
    "}\n",
    "\n",
    "comparison_df = pd.DataFrame([\n",
    "    {\n",
    "        \"Parser\": name,\n",
    "        \"Pros\": \", \".join(info[\"pros\"][:2]),  # First 2 pros\n",
    "        \"Cons\": \", \".join(info[\"cons\"][:2]),   # First 2 cons\n",
    "        \"Best For\": info[\"best_for\"]\n",
    "    }\n",
    "    for name, info in parsing_methods.items()\n",
    "])\n",
    "\n",
    "print(\"✅ DEBUG: Parser comparison table created\")\n",
    "print(\"\\n=== PDF PARSER COMPARISON ===\")\n",
    "print(comparison_df.to_string(index=False))"
   ]
  },
  {
   "cell_type": "code",
   "execution_count": 18,
   "id": "d6e03cef",
   "metadata": {},
   "outputs": [
    {
     "name": "stdout",
     "output_type": "stream",
     "text": [
      "\n",
      "📊 DEBUG: Creating transaction summary...\n",
      "✅ DEBUG: Transaction dataframe created with 8 rows\n",
      "\n",
      "=== TRANSACTION SUMMARY ===\n",
      "Total Transactions: 8\n",
      "Credits: 5\n",
      "Debits: 3\n",
      "Total Credits: $19,072.14\n",
      "Total Debits: $31,374.50\n",
      "\n",
      "📊 DEBUG: Creating display table...\n",
      "\n",
      "=== SAMPLE TRANSACTIONS TABLE ===\n",
      "      date                                           description    amount   type\n",
      "01/03/2024 Orig CO Name:Wepay Orig ID:5551232356 Desc Date:24...   1134.20 credit\n",
      "01/04/2024 Fedwire Credit Via: Amerant Bank, N.A./067010509 B...    986.00 credit\n",
      "01/05/2024 Orig CO Name:Supricom, LLC Orig ID:S941687665 Desc...   6105.00 credit\n",
      "01/05/2024 Orig CO Name:Eurybia Logistic Orig ID:1462767612 D...    500.00 credit\n",
      "01/09/2024 Chips Credit Via: Bank of America, N.A./0959 B/O: ...  10346.94 credit\n",
      "01/02/2024 Online International Wire Transfer A/C: Foreign Cu... -12000.00  debit\n",
      "01/04/2024                           Zelle Payment To Alfonso...   -200.00  debit\n",
      "01/05/2024 Online International Wire Transfer A/C: Foreign Cu... -19174.50  debit\n",
      "\n",
      "💾 DEBUG: Setting up export options...\n",
      "\n",
      "=== EXPORT OPTIONS ===\n",
      "JSON file: parsed_bank_statement.json ✅\n",
      "💾 DEBUG: Exporting to CSV...\n",
      "✅ DEBUG: CSV export successful\n",
      "CSV file: transactions.csv ✅\n",
      "💾 DEBUG: Attempting Excel export...\n",
      "✅ DEBUG: Excel export successful\n",
      "Excel file: bank_statement_analysis.xlsx ✅\n",
      "\n",
      "🎯 DEBUG: Setup complete!\n",
      "\n",
      "📅 DEBUG: DATE FORMAT UPDATE - All dates now formatted as MM/DD/YYYY\n",
      "📁 DEBUG: Year extracted from filename: 2024\n",
      "\n",
      "=== NEXT STEPS ===\n",
      "1. Run the main parser code with your actual PDF file\n",
      "2. Compare results from different parsers\n",
      "3. Choose the best parser based on your specific needs\n",
      "4. Integrate the chosen parser into your factoring analysis workflow\n",
      "\n",
      "💡 DEBUG: All debug information will show during execution to help troubleshoot any issues.\n",
      "📅 DEBUG: The year will be automatically extracted from your filename (first 4 digits)\n"
     ]
    }
   ],
   "source": [
    "# 6. Create transaction summary table\n",
    "print(\"\\n📊 DEBUG: Creating transaction summary...\")\n",
    "all_transactions = sample_data[\"deposits_and_additions\"] + sample_data[\"withdrawals\"]\n",
    "transaction_df = pd.DataFrame(all_transactions)\n",
    "\n",
    "print(f\"✅ DEBUG: Transaction dataframe created with {len(transaction_df)} rows\")\n",
    "print(f\"\\n=== TRANSACTION SUMMARY ===\")\n",
    "print(f\"Total Transactions: {len(all_transactions)}\")\n",
    "print(f\"Credits: {len(sample_data['deposits_and_additions'])}\")\n",
    "print(f\"Debits: {len(sample_data['withdrawals'])}\")\n",
    "print(f\"Total Credits: ${sum(t['amount'] for t in sample_data['deposits_and_additions']):,.2f}\")\n",
    "print(f\"Total Debits: ${abs(sum(t['amount'] for t in sample_data['withdrawals'])):,.2f}\")\n",
    "\n",
    "print(\"\\n📊 DEBUG: Creating display table...\")\n",
    "print(\"\\n=== SAMPLE TRANSACTIONS TABLE ===\")\n",
    "display_df = transaction_df[['date', 'description', 'amount', 'type']].head(10)\n",
    "display_df['description'] = display_df['description'].str[:50] + '...'\n",
    "print(display_df.to_string(index=False))\n",
    "\n",
    "# 7. Export options\n",
    "print(f\"\\n💾 DEBUG: Setting up export options...\")\n",
    "print(f\"\\n=== EXPORT OPTIONS ===\")\n",
    "print(\"JSON file: parsed_bank_statement.json ✅\")\n",
    "\n",
    "# Export to CSV\n",
    "print(\"💾 DEBUG: Exporting to CSV...\")\n",
    "try:\n",
    "    transaction_df.to_csv('transactions.csv', index=False)\n",
    "    print(\"✅ DEBUG: CSV export successful\")\n",
    "    print(\"CSV file: transactions.csv ✅\")\n",
    "except Exception as e:\n",
    "    print(f\"❌ DEBUG: CSV export failed: {str(e)}\")\n",
    "\n",
    "# Export to Excel\n",
    "print(\"💾 DEBUG: Attempting Excel export...\")\n",
    "try:\n",
    "    with pd.ExcelWriter('bank_statement_analysis.xlsx') as writer:\n",
    "        transaction_df.to_excel(writer, sheet_name='Transactions', index=False)\n",
    "        comparison_df.to_excel(writer, sheet_name='Parser_Comparison', index=False)\n",
    "    print(\"✅ DEBUG: Excel export successful\")\n",
    "    print(\"Excel file: bank_statement_analysis.xlsx ✅\")\n",
    "except ImportError:\n",
    "    print(\"⚠️ DEBUG: Excel export requires openpyxl: pip install openpyxl\")\n",
    "except Exception as e:\n",
    "    print(f\"❌ DEBUG: Excel export failed: {str(e)}\")\n",
    "\n",
    "print(f\"\\n🎯 DEBUG: Setup complete!\")\n",
    "print(f\"\\n📅 DEBUG: DATE FORMAT UPDATE - All dates now formatted as MM/DD/YYYY\")\n",
    "print(f\"📁 DEBUG: Year extracted from filename: {sample_data['deposits_and_additions'][0]['date'][-4:]}\")\n",
    "print(f\"\\n=== NEXT STEPS ===\")\n",
    "print(\"1. Run the main parser code with your actual PDF file\")\n",
    "print(\"2. Compare results from different parsers\")\n",
    "print(\"3. Choose the best parser based on your specific needs\")\n",
    "print(\"4. Integrate the chosen parser into your factoring analysis workflow\")\n",
    "print(\"\\n💡 DEBUG: All debug information will show during execution to help troubleshoot any issues.\")\n",
    "print(f\"📅 DEBUG: The year will be automatically extracted from your filename (first 4 digits)\")"
   ]
  }
 ],
 "metadata": {
  "kernelspec": {
   "display_name": ".venv",
   "language": "python",
   "name": "python3"
  },
  "language_info": {
   "codemirror_mode": {
    "name": "ipython",
    "version": 3
   },
   "file_extension": ".py",
   "mimetype": "text/x-python",
   "name": "python",
   "nbconvert_exporter": "python",
   "pygments_lexer": "ipython3",
   "version": "3.8.5"
  }
 },
 "nbformat": 4,
 "nbformat_minor": 5
}
